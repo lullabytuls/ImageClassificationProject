{
  "nbformat": 4,
  "nbformat_minor": 0,
  "metadata": {
    "colab": {
      "provenance": [],
      "gpuType": "T4"
    },
    "kernelspec": {
      "name": "python3",
      "display_name": "Python 3"
    },
    "language_info": {
      "name": "python"
    },
    "accelerator": "GPU"
  },
  "cells": [
    {
      "cell_type": "markdown",
      "source": [
        "### **Installing Required Libraries**"
      ],
      "metadata": {
        "id": "IT9yqNeZOLyY"
      }
    },
    {
      "cell_type": "code",
      "source": [
        "!pip install tensorflow"
      ],
      "metadata": {
        "colab": {
          "base_uri": "https://localhost:8080/"
        },
        "id": "eV42rtpwbEuw",
        "outputId": "758b4a3f-8327-4afb-d3fc-00c24808148d"
      },
      "execution_count": 1,
      "outputs": [
        {
          "output_type": "stream",
          "name": "stdout",
          "text": [
            "Looking in indexes: https://pypi.org/simple, https://us-python.pkg.dev/colab-wheels/public/simple/\n",
            "Requirement already satisfied: tensorflow in /usr/local/lib/python3.10/dist-packages (2.12.0)\n",
            "Requirement already satisfied: absl-py>=1.0.0 in /usr/local/lib/python3.10/dist-packages (from tensorflow) (1.4.0)\n",
            "Requirement already satisfied: astunparse>=1.6.0 in /usr/local/lib/python3.10/dist-packages (from tensorflow) (1.6.3)\n",
            "Requirement already satisfied: flatbuffers>=2.0 in /usr/local/lib/python3.10/dist-packages (from tensorflow) (23.3.3)\n",
            "Requirement already satisfied: gast<=0.4.0,>=0.2.1 in /usr/local/lib/python3.10/dist-packages (from tensorflow) (0.4.0)\n",
            "Requirement already satisfied: google-pasta>=0.1.1 in /usr/local/lib/python3.10/dist-packages (from tensorflow) (0.2.0)\n",
            "Requirement already satisfied: grpcio<2.0,>=1.24.3 in /usr/local/lib/python3.10/dist-packages (from tensorflow) (1.54.0)\n",
            "Requirement already satisfied: h5py>=2.9.0 in /usr/local/lib/python3.10/dist-packages (from tensorflow) (3.8.0)\n",
            "Requirement already satisfied: jax>=0.3.15 in /usr/local/lib/python3.10/dist-packages (from tensorflow) (0.4.10)\n",
            "Requirement already satisfied: keras<2.13,>=2.12.0 in /usr/local/lib/python3.10/dist-packages (from tensorflow) (2.12.0)\n",
            "Requirement already satisfied: libclang>=13.0.0 in /usr/local/lib/python3.10/dist-packages (from tensorflow) (16.0.0)\n",
            "Requirement already satisfied: numpy<1.24,>=1.22 in /usr/local/lib/python3.10/dist-packages (from tensorflow) (1.22.4)\n",
            "Requirement already satisfied: opt-einsum>=2.3.2 in /usr/local/lib/python3.10/dist-packages (from tensorflow) (3.3.0)\n",
            "Requirement already satisfied: packaging in /usr/local/lib/python3.10/dist-packages (from tensorflow) (23.1)\n",
            "Requirement already satisfied: protobuf!=4.21.0,!=4.21.1,!=4.21.2,!=4.21.3,!=4.21.4,!=4.21.5,<5.0.0dev,>=3.20.3 in /usr/local/lib/python3.10/dist-packages (from tensorflow) (3.20.3)\n",
            "Requirement already satisfied: setuptools in /usr/local/lib/python3.10/dist-packages (from tensorflow) (67.7.2)\n",
            "Requirement already satisfied: six>=1.12.0 in /usr/local/lib/python3.10/dist-packages (from tensorflow) (1.16.0)\n",
            "Requirement already satisfied: tensorboard<2.13,>=2.12 in /usr/local/lib/python3.10/dist-packages (from tensorflow) (2.12.2)\n",
            "Requirement already satisfied: tensorflow-estimator<2.13,>=2.12.0 in /usr/local/lib/python3.10/dist-packages (from tensorflow) (2.12.0)\n",
            "Requirement already satisfied: termcolor>=1.1.0 in /usr/local/lib/python3.10/dist-packages (from tensorflow) (2.3.0)\n",
            "Requirement already satisfied: typing-extensions>=3.6.6 in /usr/local/lib/python3.10/dist-packages (from tensorflow) (4.5.0)\n",
            "Requirement already satisfied: wrapt<1.15,>=1.11.0 in /usr/local/lib/python3.10/dist-packages (from tensorflow) (1.14.1)\n",
            "Requirement already satisfied: tensorflow-io-gcs-filesystem>=0.23.1 in /usr/local/lib/python3.10/dist-packages (from tensorflow) (0.32.0)\n",
            "Requirement already satisfied: wheel<1.0,>=0.23.0 in /usr/local/lib/python3.10/dist-packages (from astunparse>=1.6.0->tensorflow) (0.40.0)\n",
            "Requirement already satisfied: ml-dtypes>=0.1.0 in /usr/local/lib/python3.10/dist-packages (from jax>=0.3.15->tensorflow) (0.1.0)\n",
            "Requirement already satisfied: scipy>=1.7 in /usr/local/lib/python3.10/dist-packages (from jax>=0.3.15->tensorflow) (1.10.1)\n",
            "Requirement already satisfied: google-auth<3,>=1.6.3 in /usr/local/lib/python3.10/dist-packages (from tensorboard<2.13,>=2.12->tensorflow) (2.17.3)\n",
            "Requirement already satisfied: google-auth-oauthlib<1.1,>=0.5 in /usr/local/lib/python3.10/dist-packages (from tensorboard<2.13,>=2.12->tensorflow) (1.0.0)\n",
            "Requirement already satisfied: markdown>=2.6.8 in /usr/local/lib/python3.10/dist-packages (from tensorboard<2.13,>=2.12->tensorflow) (3.4.3)\n",
            "Requirement already satisfied: requests<3,>=2.21.0 in /usr/local/lib/python3.10/dist-packages (from tensorboard<2.13,>=2.12->tensorflow) (2.27.1)\n",
            "Requirement already satisfied: tensorboard-data-server<0.8.0,>=0.7.0 in /usr/local/lib/python3.10/dist-packages (from tensorboard<2.13,>=2.12->tensorflow) (0.7.0)\n",
            "Requirement already satisfied: tensorboard-plugin-wit>=1.6.0 in /usr/local/lib/python3.10/dist-packages (from tensorboard<2.13,>=2.12->tensorflow) (1.8.1)\n",
            "Requirement already satisfied: werkzeug>=1.0.1 in /usr/local/lib/python3.10/dist-packages (from tensorboard<2.13,>=2.12->tensorflow) (2.3.0)\n",
            "Requirement already satisfied: cachetools<6.0,>=2.0.0 in /usr/local/lib/python3.10/dist-packages (from google-auth<3,>=1.6.3->tensorboard<2.13,>=2.12->tensorflow) (5.3.0)\n",
            "Requirement already satisfied: pyasn1-modules>=0.2.1 in /usr/local/lib/python3.10/dist-packages (from google-auth<3,>=1.6.3->tensorboard<2.13,>=2.12->tensorflow) (0.3.0)\n",
            "Requirement already satisfied: rsa<5,>=3.1.4 in /usr/local/lib/python3.10/dist-packages (from google-auth<3,>=1.6.3->tensorboard<2.13,>=2.12->tensorflow) (4.9)\n",
            "Requirement already satisfied: requests-oauthlib>=0.7.0 in /usr/local/lib/python3.10/dist-packages (from google-auth-oauthlib<1.1,>=0.5->tensorboard<2.13,>=2.12->tensorflow) (1.3.1)\n",
            "Requirement already satisfied: urllib3<1.27,>=1.21.1 in /usr/local/lib/python3.10/dist-packages (from requests<3,>=2.21.0->tensorboard<2.13,>=2.12->tensorflow) (1.26.15)\n",
            "Requirement already satisfied: certifi>=2017.4.17 in /usr/local/lib/python3.10/dist-packages (from requests<3,>=2.21.0->tensorboard<2.13,>=2.12->tensorflow) (2022.12.7)\n",
            "Requirement already satisfied: charset-normalizer~=2.0.0 in /usr/local/lib/python3.10/dist-packages (from requests<3,>=2.21.0->tensorboard<2.13,>=2.12->tensorflow) (2.0.12)\n",
            "Requirement already satisfied: idna<4,>=2.5 in /usr/local/lib/python3.10/dist-packages (from requests<3,>=2.21.0->tensorboard<2.13,>=2.12->tensorflow) (3.4)\n",
            "Requirement already satisfied: MarkupSafe>=2.1.1 in /usr/local/lib/python3.10/dist-packages (from werkzeug>=1.0.1->tensorboard<2.13,>=2.12->tensorflow) (2.1.2)\n",
            "Requirement already satisfied: pyasn1<0.6.0,>=0.4.6 in /usr/local/lib/python3.10/dist-packages (from pyasn1-modules>=0.2.1->google-auth<3,>=1.6.3->tensorboard<2.13,>=2.12->tensorflow) (0.5.0)\n",
            "Requirement already satisfied: oauthlib>=3.0.0 in /usr/local/lib/python3.10/dist-packages (from requests-oauthlib>=0.7.0->google-auth-oauthlib<1.1,>=0.5->tensorboard<2.13,>=2.12->tensorflow) (3.2.2)\n"
          ]
        }
      ]
    },
    {
      "cell_type": "code",
      "source": [
        "import cv2\n",
        "import os \n",
        "import random\n",
        "import matplotlib.pyplot as plt\n",
        "import pickle"
      ],
      "metadata": {
        "id": "YxvqmS9dcW8N"
      },
      "execution_count": 2,
      "outputs": []
    },
    {
      "cell_type": "code",
      "execution_count": 3,
      "metadata": {
        "id": "reCVSpbqaqy3"
      },
      "outputs": [],
      "source": [
        "import numpy as np\n",
        "from tensorflow.keras.models import Sequential\n",
        "from tensorflow.keras.layers import Dense, Dropout, Flatten, BatchNormalization,Activation, Convolution2D, MaxPooling2D\n",
        "from keras.utils import np_utils\n",
        "import PIL\n",
        "import tensorflow as tf\n",
        "from tensorflow.keras import layers\n",
        "from tensorflow.keras.models import Sequential\n",
        "from tensorflow import keras"
      ]
    },
    {
      "cell_type": "code",
      "source": [
        "from google.colab import drive\n",
        "drive.mount('/content/drive')\n"
      ],
      "metadata": {
        "colab": {
          "base_uri": "https://localhost:8080/"
        },
        "id": "90NxDcjPiKr_",
        "outputId": "17fc651d-5cca-4b00-9c30-f8206726d812"
      },
      "execution_count": 4,
      "outputs": [
        {
          "output_type": "stream",
          "name": "stdout",
          "text": [
            "Mounted at /content/drive\n"
          ]
        }
      ]
    },
    {
      "cell_type": "code",
      "source": [
        "%cd /content/drive/MyDrive"
      ],
      "metadata": {
        "colab": {
          "base_uri": "https://localhost:8080/"
        },
        "id": "jV0zubq9iOys",
        "outputId": "9a3d57f6-4737-4409-8cbd-11eeea3f6aa0"
      },
      "execution_count": 5,
      "outputs": [
        {
          "output_type": "stream",
          "name": "stdout",
          "text": [
            "/content/drive/MyDrive\n"
          ]
        }
      ]
    },
    {
      "cell_type": "code",
      "source": [
        "!unzip /content/drive/MyDrive/DATA/data1.zip"
      ],
      "metadata": {
        "colab": {
          "base_uri": "https://localhost:8080/"
        },
        "id": "0vNOXTutiSEl",
        "outputId": "ed6fb555-ce52-4397-c665-0ff9bc603fa3"
      },
      "execution_count": 6,
      "outputs": [
        {
          "output_type": "stream",
          "name": "stdout",
          "text": [
            "Archive:  /content/drive/MyDrive/DATA/data1.zip\n",
            "replace data1/Q1_dataset/flower_images/Lilly/00048a5c76.jpg? [y]es, [n]o, [A]ll, [N]one, [r]ename: n\n",
            "replace data1/Q1_dataset/flower_images/Lilly/001ff6644e.jpg? [y]es, [n]o, [A]ll, [N]one, [r]ename: n\n",
            "replace data1/Q1_dataset/flower_images/Lilly/001ff6656j.jpg? [y]es, [n]o, [A]ll, [N]one, [r]ename: "
          ]
        }
      ]
    },
    {
      "cell_type": "markdown",
      "source": [
        "### **DATA PREPROCESSING**"
      ],
      "metadata": {
        "id": "MY_ND2wRruHD"
      }
    },
    {
      "cell_type": "code",
      "source": [
        "data1 = '/content/drive/MyDrive/data1/Q1_dataset/flower_images'\n",
        "classes = ['Lilly','Lotus','Orchid','Sunflower','Tulip']"
      ],
      "metadata": {
        "id": "OuJQlrBlbbt4"
      },
      "execution_count": 8,
      "outputs": []
    },
    {
      "cell_type": "code",
      "source": [
        "IMG_SIZE = 100\n",
        "\n",
        "for category in classes:\n",
        "  folder = os.path.join(data1, category)\n",
        "  for img in os.listdir(folder):\n",
        "    img_path = os.path.join(folder,img)\n",
        "    img_arr = cv2.imread(img_path)\n",
        "    img_arr = cv2.resize(img_arr, (IMG_SIZE, IMG_SIZE))\n",
        "    plt.imshow(img_arr)\n",
        "    break"
      ],
      "metadata": {
        "colab": {
          "base_uri": "https://localhost:8080/",
          "height": 433
        },
        "id": "o8z25tFfiB6s",
        "outputId": "2fbf610c-be01-4420-a5e8-af168d1b3c92"
      },
      "execution_count": 9,
      "outputs": [
        {
          "output_type": "display_data",
          "data": {
            "text/plain": [
              "<Figure size 640x480 with 1 Axes>"
            ],
            "image/png": "[encoded data removed]"
          },
          "metadata": {}
        }
      ]
    },
    {
      "cell_type": "code",
      "source": [
        "IMG_SIZE = 100\n",
        "\n",
        "data = []\n",
        "\n",
        "for category in classes:\n",
        "  folder = os.path.join(data1, category)\n",
        "  label = classes.index(category)\n",
        "  for img in os.listdir(folder):\n",
        "    img_path = os.path.join(folder,img)\n",
        "    img_arr = cv2.imread(img_path)\n",
        "    img_arr = cv2.resize(img_arr, (IMG_SIZE, IMG_SIZE))\n",
        "    data.append([img_arr, label])"
      ],
      "metadata": {
        "id": "NguY1yzanoj7"
      },
      "execution_count": 10,
      "outputs": []
    },
    {
      "cell_type": "code",
      "source": [
        "len(data)"
      ],
      "metadata": {
        "colab": {
          "base_uri": "https://localhost:8080/"
        },
        "id": "fQ41DuUXoFe-",
        "outputId": "11a807b1-e081-4bb8-b234-19fc93694217"
      },
      "execution_count": 11,
      "outputs": [
        {
          "output_type": "execute_result",
          "data": {
            "text/plain": [
              "5000"
            ]
          },
          "metadata": {},
          "execution_count": 11
        }
      ]
    },
    {
      "cell_type": "code",
      "source": [
        "train_ds = keras.utils.image_dataset_from_directory(\n",
        "    directory= '/content/drive/MyDrive/data1/Q1_dataset/flower_images'\n",
        "    labels = 'inferred',\n",
        "    label_mode='int',\n",
        "    batch_size=32,\n",
        "    image_size = (256,256)\n",
        ")\n",
        "\n",
        "validation_ds = keras.utils.image_dataset_from_directory(\n",
        "    \n",
        ")"
      ],
      "metadata": {
        "id": "R77ncwAj1XjX"
      },
      "execution_count": null,
      "outputs": []
    },
    {
      "cell_type": "markdown",
      "source": [
        "# Shuffling data\n",
        "In order to make the model have a better understanding for each class, we need to shuffle the dataset"
      ],
      "metadata": {
        "id": "1ZhnsKsZoePr"
      }
    },
    {
      "cell_type": "code",
      "source": [
        "random.shuffle(data)"
      ],
      "metadata": {
        "id": "Yh-x03RIoIZb"
      },
      "execution_count": 12,
      "outputs": []
    },
    {
      "cell_type": "code",
      "source": [
        "data[0]"
      ],
      "metadata": {
        "colab": {
          "base_uri": "https://localhost:8080/"
        },
        "id": "MyTtqA_2ozjq",
        "outputId": "023659a6-c978-4668-f342-0d3a05ea90ef"
      },
      "execution_count": 13,
      "outputs": [
        {
          "output_type": "execute_result",
          "data": {
            "text/plain": [
              "[array([[[ 60,  85,  71],\n",
              "         [ 55,  84,  69],\n",
              "         [ 47,  85,  69],\n",
              "         ...,\n",
              "         [ 71,  94,  96],\n",
              "         [ 73,  94,  95],\n",
              "         [ 73,  95,  93]],\n",
              " \n",
              "        [[ 64,  93,  78],\n",
              "         [ 57,  93,  77],\n",
              "         [ 51,  93,  76],\n",
              "         ...,\n",
              "         [ 69,  92,  94],\n",
              "         [ 71,  92,  93],\n",
              "         [ 72,  93,  91]],\n",
              " \n",
              "        [[ 67, 102,  87],\n",
              "         [ 62, 102,  86],\n",
              "         [ 56, 102,  85],\n",
              "         ...,\n",
              "         [ 67,  88,  90],\n",
              "         [ 68,  89,  88],\n",
              "         [ 70,  89,  87]],\n",
              " \n",
              "        ...,\n",
              " \n",
              "        [[ 51, 130, 113],\n",
              "         [ 52, 124, 108],\n",
              "         [ 36, 106,  91],\n",
              "         ...,\n",
              "         [ 34,  70,  55],\n",
              "         [ 29,  68,  53],\n",
              "         [ 22,  64,  51]],\n",
              " \n",
              "        [[ 52, 125, 109],\n",
              "         [ 58, 125, 110],\n",
              "         [ 37, 104,  89],\n",
              "         ...,\n",
              "         [ 31,  68,  52],\n",
              "         [ 29,  65,  51],\n",
              "         [ 26,  64,  52]],\n",
              " \n",
              "        [[ 53, 120, 105],\n",
              "         [ 55, 120, 105],\n",
              "         [ 42, 105,  90],\n",
              "         ...,\n",
              "         [ 29,  67,  51],\n",
              "         [ 28,  64,  50],\n",
              "         [ 28,  63,  50]]], dtype=uint8),\n",
              " 1]"
            ]
          },
          "metadata": {},
          "execution_count": 13
        }
      ]
    },
    {
      "cell_type": "markdown",
      "source": [
        "--->1 at the end indicates that the image above belongs to the class Lotus"
      ],
      "metadata": {
        "id": "yMHhlYzRo5sl"
      }
    },
    {
      "cell_type": "code",
      "source": [
        "X = []\n",
        "y = []\n",
        "\n",
        "for features, labels in data:\n",
        "  X.append(features)\n",
        "  y.append(labels)"
      ],
      "metadata": {
        "id": "ESpU3oP4pCyT"
      },
      "execution_count": 57,
      "outputs": []
    },
    {
      "cell_type": "code",
      "source": [
        "X = np.array(X)\n",
        "y= np.array(y)"
      ],
      "metadata": {
        "id": "Yxaqc4Fpps8q"
      },
      "execution_count": 58,
      "outputs": []
    },
    {
      "cell_type": "code",
      "source": [
        "len(X)\n",
        "len(y)"
      ],
      "metadata": {
        "colab": {
          "base_uri": "https://localhost:8080/"
        },
        "id": "ZP4WhkA8p2oi",
        "outputId": "ca392a93-2814-45a8-d837-32440890f31e"
      },
      "execution_count": 59,
      "outputs": [
        {
          "output_type": "execute_result",
          "data": {
            "text/plain": [
              "5000"
            ]
          },
          "metadata": {},
          "execution_count": 59
        }
      ]
    },
    {
      "cell_type": "code",
      "source": [
        "pickle.dump(X, open('X.pkl','wb'))\n",
        "pickle.dump(y, open('y.pkl', 'wb'))"
      ],
      "metadata": {
        "id": "oRc_39dFp-TN"
      },
      "execution_count": 36,
      "outputs": []
    },
    {
      "cell_type": "markdown",
      "source": [
        "### **TRAINING**"
      ],
      "metadata": {
        "id": "zGCHG31pr2HK"
      }
    },
    {
      "cell_type": "code",
      "source": [
        "X = pickle.load(open('X.pkl','rb'))\n",
        "y= pickle.load(open('y.pkl','rb'))"
      ],
      "metadata": {
        "id": "vKJTRxzar1Hj"
      },
      "execution_count": 37,
      "outputs": []
    },
    {
      "cell_type": "markdown",
      "source": [
        "lesser the values, faster the computations (SCALING)\n",
        "\n"
      ],
      "metadata": {
        "id": "bkh71ZSzshJw"
      }
    },
    {
      "cell_type": "code",
      "source": [
        "X = X/255"
      ],
      "metadata": {
        "id": "HzzFB7CfsYHG"
      },
      "execution_count": 18,
      "outputs": []
    },
    {
      "cell_type": "code",
      "source": [
        "X"
      ],
      "metadata": {
        "colab": {
          "base_uri": "https://localhost:8080/"
        },
        "id": "enpOoj9ysqcK",
        "outputId": "303da888-58ff-4241-932d-08924c2b91a1"
      },
      "execution_count": 19,
      "outputs": [
        {
          "output_type": "execute_result",
          "data": {
            "text/plain": [
              "array([[[[0.23529412, 0.33333333, 0.27843137],\n",
              "         [0.21568627, 0.32941176, 0.27058824],\n",
              "         [0.18431373, 0.33333333, 0.27058824],\n",
              "         ...,\n",
              "         [0.27843137, 0.36862745, 0.37647059],\n",
              "         [0.28627451, 0.36862745, 0.37254902],\n",
              "         [0.28627451, 0.37254902, 0.36470588]],\n",
              "\n",
              "        [[0.25098039, 0.36470588, 0.30588235],\n",
              "         [0.22352941, 0.36470588, 0.30196078],\n",
              "         [0.2       , 0.36470588, 0.29803922],\n",
              "         ...,\n",
              "         [0.27058824, 0.36078431, 0.36862745],\n",
              "         [0.27843137, 0.36078431, 0.36470588],\n",
              "         [0.28235294, 0.36470588, 0.35686275]],\n",
              "\n",
              "        [[0.2627451 , 0.4       , 0.34117647],\n",
              "         [0.24313725, 0.4       , 0.3372549 ],\n",
              "         [0.21960784, 0.4       , 0.33333333],\n",
              "         ...,\n",
              "         [0.2627451 , 0.34509804, 0.35294118],\n",
              "         [0.26666667, 0.34901961, 0.34509804],\n",
              "         [0.2745098 , 0.34901961, 0.34117647]],\n",
              "\n",
              "        ...,\n",
              "\n",
              "        [[0.2       , 0.50980392, 0.44313725],\n",
              "         [0.20392157, 0.48627451, 0.42352941],\n",
              "         [0.14117647, 0.41568627, 0.35686275],\n",
              "         ...,\n",
              "         [0.13333333, 0.2745098 , 0.21568627],\n",
              "         [0.11372549, 0.26666667, 0.20784314],\n",
              "         [0.08627451, 0.25098039, 0.2       ]],\n",
              "\n",
              "        [[0.20392157, 0.49019608, 0.42745098],\n",
              "         [0.22745098, 0.49019608, 0.43137255],\n",
              "         [0.14509804, 0.40784314, 0.34901961],\n",
              "         ...,\n",
              "         [0.12156863, 0.26666667, 0.20392157],\n",
              "         [0.11372549, 0.25490196, 0.2       ],\n",
              "         [0.10196078, 0.25098039, 0.20392157]],\n",
              "\n",
              "        [[0.20784314, 0.47058824, 0.41176471],\n",
              "         [0.21568627, 0.47058824, 0.41176471],\n",
              "         [0.16470588, 0.41176471, 0.35294118],\n",
              "         ...,\n",
              "         [0.11372549, 0.2627451 , 0.2       ],\n",
              "         [0.10980392, 0.25098039, 0.19607843],\n",
              "         [0.10980392, 0.24705882, 0.19607843]]],\n",
              "\n",
              "\n",
              "       [[[0.21176471, 0.18039216, 0.20784314],\n",
              "         [0.21176471, 0.18039216, 0.20784314],\n",
              "         [0.21176471, 0.18039216, 0.20784314],\n",
              "         ...,\n",
              "         [0.16470588, 0.1372549 , 0.16470588],\n",
              "         [0.16078431, 0.13333333, 0.16078431],\n",
              "         [0.15294118, 0.12156863, 0.14901961]],\n",
              "\n",
              "        [[0.21176471, 0.18039216, 0.20784314],\n",
              "         [0.21176471, 0.18039216, 0.20784314],\n",
              "         [0.21176471, 0.18039216, 0.20784314],\n",
              "         ...,\n",
              "         [0.15686275, 0.14117647, 0.16470588],\n",
              "         [0.15686275, 0.1372549 , 0.16078431],\n",
              "         [0.16078431, 0.12941176, 0.15686275]],\n",
              "\n",
              "        [[0.21176471, 0.18039216, 0.20784314],\n",
              "         [0.21176471, 0.18039216, 0.20784314],\n",
              "         [0.21176471, 0.18039216, 0.20784314],\n",
              "         ...,\n",
              "         [0.16078431, 0.14509804, 0.16470588],\n",
              "         [0.15686275, 0.14117647, 0.16078431],\n",
              "         [0.16470588, 0.1372549 , 0.16470588]],\n",
              "\n",
              "        ...,\n",
              "\n",
              "        [[0.18039216, 0.35686275, 0.24705882],\n",
              "         [0.09019608, 0.30196078, 0.20784314],\n",
              "         [0.04313725, 0.41568627, 0.3254902 ],\n",
              "         ...,\n",
              "         [0.        , 0.17254902, 0.08627451],\n",
              "         [0.03921569, 0.18039216, 0.11372549],\n",
              "         [0.01960784, 0.21176471, 0.13333333]],\n",
              "\n",
              "        [[0.18039216, 0.35294118, 0.24313725],\n",
              "         [0.05490196, 0.29019608, 0.18823529],\n",
              "         [0.        , 0.36862745, 0.2745098 ],\n",
              "         ...,\n",
              "         [0.        , 0.17254902, 0.07058824],\n",
              "         [0.06666667, 0.2       , 0.12156863],\n",
              "         [0.01960784, 0.23529412, 0.14509804]],\n",
              "\n",
              "        [[0.18039216, 0.33333333, 0.23137255],\n",
              "         [0.02352941, 0.30588235, 0.18823529],\n",
              "         [0.13333333, 0.44705882, 0.35294118],\n",
              "         ...,\n",
              "         [0.10196078, 0.29019608, 0.20784314],\n",
              "         [0.12156863, 0.2745098 , 0.20392157],\n",
              "         [0.10196078, 0.28627451, 0.21176471]]],\n",
              "\n",
              "\n",
              "       [[[0.12941176, 0.16862745, 0.14509804],\n",
              "         [0.1254902 , 0.16470588, 0.14117647],\n",
              "         [0.12941176, 0.16862745, 0.14509804],\n",
              "         ...,\n",
              "         [0.1372549 , 0.11764706, 0.10588235],\n",
              "         [0.13333333, 0.11372549, 0.10196078],\n",
              "         [0.12941176, 0.10980392, 0.09803922]],\n",
              "\n",
              "        [[0.1372549 , 0.18039216, 0.15686275],\n",
              "         [0.12941176, 0.17647059, 0.15294118],\n",
              "         [0.1372549 , 0.18039216, 0.15686275],\n",
              "         ...,\n",
              "         [0.14117647, 0.12156863, 0.10980392],\n",
              "         [0.1372549 , 0.11764706, 0.10588235],\n",
              "         [0.1372549 , 0.11764706, 0.10588235]],\n",
              "\n",
              "        [[0.1372549 , 0.19215686, 0.16862745],\n",
              "         [0.14117647, 0.19607843, 0.17254902],\n",
              "         [0.1372549 , 0.19215686, 0.16862745],\n",
              "         ...,\n",
              "         [0.14117647, 0.12156863, 0.10980392],\n",
              "         [0.14117647, 0.12156863, 0.10980392],\n",
              "         [0.14117647, 0.12156863, 0.10980392]],\n",
              "\n",
              "        ...,\n",
              "\n",
              "        [[0.04313725, 0.0627451 , 0.05490196],\n",
              "         [0.04705882, 0.06666667, 0.05882353],\n",
              "         [0.04705882, 0.06666667, 0.05882353],\n",
              "         ...,\n",
              "         [0.04313725, 0.05098039, 0.04313725],\n",
              "         [0.03921569, 0.05098039, 0.04313725],\n",
              "         [0.03529412, 0.04705882, 0.03921569]],\n",
              "\n",
              "        [[0.04313725, 0.0627451 , 0.05490196],\n",
              "         [0.04705882, 0.06666667, 0.05882353],\n",
              "         [0.04705882, 0.06666667, 0.05882353],\n",
              "         ...,\n",
              "         [0.03921569, 0.05098039, 0.04313725],\n",
              "         [0.03921569, 0.05098039, 0.04313725],\n",
              "         [0.03529412, 0.04705882, 0.03921569]],\n",
              "\n",
              "        [[0.04313725, 0.0627451 , 0.05490196],\n",
              "         [0.04313725, 0.0627451 , 0.05490196],\n",
              "         [0.04705882, 0.06666667, 0.05882353],\n",
              "         ...,\n",
              "         [0.03529412, 0.04705882, 0.03921569],\n",
              "         [0.03529412, 0.04705882, 0.03921569],\n",
              "         [0.03529412, 0.04705882, 0.03921569]]],\n",
              "\n",
              "\n",
              "       ...,\n",
              "\n",
              "\n",
              "       [[[0.90196078, 0.79607843, 0.94901961],\n",
              "         [0.90196078, 0.79607843, 0.94901961],\n",
              "         [0.90196078, 0.79607843, 0.94901961],\n",
              "         ...,\n",
              "         [0.92156863, 0.82745098, 0.96470588],\n",
              "         [0.92941176, 0.82745098, 0.96862745],\n",
              "         [0.91372549, 0.83137255, 0.96862745]],\n",
              "\n",
              "        [[0.89803922, 0.79215686, 0.94509804],\n",
              "         [0.90196078, 0.79607843, 0.94901961],\n",
              "         [0.90196078, 0.79607843, 0.94901961],\n",
              "         ...,\n",
              "         [0.92156863, 0.82745098, 0.96470588],\n",
              "         [0.9254902 , 0.82352941, 0.96470588],\n",
              "         [0.91764706, 0.83529412, 0.97254902]],\n",
              "\n",
              "        [[0.89803922, 0.79215686, 0.94509804],\n",
              "         [0.90196078, 0.79607843, 0.94901961],\n",
              "         [0.90588235, 0.8       , 0.95294118],\n",
              "         ...,\n",
              "         [0.9254902 , 0.83137255, 0.96862745],\n",
              "         [0.93333333, 0.83137255, 0.97254902],\n",
              "         [0.9254902 , 0.84313725, 0.98039216]],\n",
              "\n",
              "        ...,\n",
              "\n",
              "        [[0.88235294, 0.77254902, 0.94117647],\n",
              "         [0.88627451, 0.77647059, 0.94509804],\n",
              "         [0.89019608, 0.78431373, 0.94117647],\n",
              "         ...,\n",
              "         [0.79215686, 0.69411765, 0.90588235],\n",
              "         [0.61568627, 0.74117647, 0.74901961],\n",
              "         [0.67843137, 0.80392157, 0.72941176]],\n",
              "\n",
              "        [[0.87843137, 0.76862745, 0.9372549 ],\n",
              "         [0.88627451, 0.77647059, 0.94509804],\n",
              "         [0.89019608, 0.78431373, 0.94117647],\n",
              "         ...,\n",
              "         [0.72156863, 0.71764706, 0.81176471],\n",
              "         [0.6627451 , 0.63921569, 0.80392157],\n",
              "         [0.63529412, 0.8       , 0.74901961]],\n",
              "\n",
              "        [[0.88627451, 0.76862745, 0.9372549 ],\n",
              "         [0.89019608, 0.77254902, 0.94117647],\n",
              "         [0.88627451, 0.77647059, 0.94117647],\n",
              "         ...,\n",
              "         [0.83529412, 0.88627451, 0.85882353],\n",
              "         [0.65098039, 0.68235294, 0.74509804],\n",
              "         [0.5372549 , 0.60784314, 0.67058824]]],\n",
              "\n",
              "\n",
              "       [[[0.96078431, 0.82745098, 0.72941176],\n",
              "         [0.96470588, 0.81960784, 0.72156863],\n",
              "         [0.98039216, 0.80784314, 0.71764706],\n",
              "         ...,\n",
              "         [0.99607843, 0.87058824, 0.80784314],\n",
              "         [0.98823529, 0.87058824, 0.80392157],\n",
              "         [0.99215686, 0.87843137, 0.81176471]],\n",
              "\n",
              "        [[0.94117647, 0.78823529, 0.70196078],\n",
              "         [0.96862745, 0.80784314, 0.71764706],\n",
              "         [0.96470588, 0.80784314, 0.69803922],\n",
              "         ...,\n",
              "         [0.98431373, 0.87058824, 0.81176471],\n",
              "         [0.98823529, 0.88627451, 0.82352941],\n",
              "         [0.98823529, 0.89019608, 0.82745098]],\n",
              "\n",
              "        [[0.8745098 , 0.74509804, 0.64705882],\n",
              "         [0.9372549 , 0.77647059, 0.69019608],\n",
              "         [0.93333333, 0.79607843, 0.67843137],\n",
              "         ...,\n",
              "         [0.98431373, 0.88235294, 0.81960784],\n",
              "         [0.99215686, 0.89411765, 0.83137255],\n",
              "         [0.98431373, 0.89411765, 0.83137255]],\n",
              "\n",
              "        ...,\n",
              "\n",
              "        [[0.49803922, 0.51764706, 0.09019608],\n",
              "         [0.45490196, 0.49411765, 0.00784314],\n",
              "         [0.44313725, 0.46666667, 0.        ],\n",
              "         ...,\n",
              "         [0.        , 0.16078431, 0.01960784],\n",
              "         [0.01568627, 0.23137255, 0.03529412],\n",
              "         [0.02745098, 0.21568627, 0.11764706]],\n",
              "\n",
              "        [[0.50196078, 0.50588235, 0.1254902 ],\n",
              "         [0.46666667, 0.49411765, 0.01960784],\n",
              "         [0.43921569, 0.4745098 , 0.00392157],\n",
              "         ...,\n",
              "         [0.00392157, 0.22352941, 0.02745098],\n",
              "         [0.03529412, 0.27058824, 0.03921569],\n",
              "         [0.01568627, 0.19607843, 0.12156863]],\n",
              "\n",
              "        [[0.49411765, 0.49803922, 0.11764706],\n",
              "         [0.46666667, 0.49411765, 0.01960784],\n",
              "         [0.43921569, 0.4745098 , 0.00392157],\n",
              "         ...,\n",
              "         [0.02352941, 0.3254902 , 0.02745098],\n",
              "         [0.        , 0.13333333, 0.02352941],\n",
              "         [0.01568627, 0.21568627, 0.0627451 ]]],\n",
              "\n",
              "\n",
              "       [[[0.96862745, 1.        , 1.        ],\n",
              "         [0.96862745, 1.        , 1.        ],\n",
              "         [0.96862745, 1.        , 1.        ],\n",
              "         ...,\n",
              "         [0.89019608, 0.96862745, 0.98823529],\n",
              "         [0.9254902 , 0.96078431, 0.98823529],\n",
              "         [0.9372549 , 0.95686275, 0.98431373]],\n",
              "\n",
              "        [[0.96862745, 1.        , 1.        ],\n",
              "         [0.96862745, 1.        , 1.        ],\n",
              "         [0.96862745, 1.        , 1.        ],\n",
              "         ...,\n",
              "         [0.89019608, 0.96862745, 0.98823529],\n",
              "         [0.92156863, 0.96078431, 0.98823529],\n",
              "         [0.93333333, 0.95686275, 0.98431373]],\n",
              "\n",
              "        [[0.96862745, 1.        , 1.        ],\n",
              "         [0.96862745, 1.        , 1.        ],\n",
              "         [0.96862745, 1.        , 1.        ],\n",
              "         ...,\n",
              "         [0.89019608, 0.96862745, 0.98823529],\n",
              "         [0.92156863, 0.96078431, 0.98823529],\n",
              "         [0.93333333, 0.95686275, 0.98431373]],\n",
              "\n",
              "        ...,\n",
              "\n",
              "        [[0.86666667, 0.77254902, 0.98823529],\n",
              "         [0.57254902, 0.44705882, 0.78039216],\n",
              "         [0.75294118, 0.59607843, 0.93333333],\n",
              "         ...,\n",
              "         [0.13333333, 0.27058824, 0.28627451],\n",
              "         [0.        , 0.08235294, 0.09411765],\n",
              "         [0.07058824, 0.23137255, 0.23921569]],\n",
              "\n",
              "        [[0.92156863, 0.93333333, 0.98431373],\n",
              "         [0.85098039, 0.8627451 , 0.99607843],\n",
              "         [0.74901961, 0.76862745, 0.9254902 ],\n",
              "         ...,\n",
              "         [0.18039216, 0.32941176, 0.35294118],\n",
              "         [0.04705882, 0.11372549, 0.14509804],\n",
              "         [0.08627451, 0.28235294, 0.29411765]],\n",
              "\n",
              "        [[0.93333333, 0.98823529, 0.96470588],\n",
              "         [0.80784314, 0.90980392, 0.96470588],\n",
              "         [0.77254902, 0.90196078, 0.96470588],\n",
              "         ...,\n",
              "         [0.05098039, 0.20392157, 0.23137255],\n",
              "         [0.1254902 , 0.30196078, 0.34117647],\n",
              "         [0.13333333, 0.38431373, 0.39607843]]]])"
            ]
          },
          "metadata": {},
          "execution_count": 19
        }
      ]
    },
    {
      "cell_type": "code",
      "source": [
        "X.shape"
      ],
      "metadata": {
        "colab": {
          "base_uri": "https://localhost:8080/"
        },
        "id": "z_LTcxW8swpb",
        "outputId": "f2f07f22-bd76-4050-dae0-5fe8727077b0"
      },
      "execution_count": 60,
      "outputs": [
        {
          "output_type": "execute_result",
          "data": {
            "text/plain": [
              "(5000, 100, 100, 3)"
            ]
          },
          "metadata": {},
          "execution_count": 60
        }
      ]
    },
    {
      "cell_type": "code",
      "source": [
        "from keras.utils import to_categorical\n",
        "\n",
        "\n",
        "num_classes = 5\n",
        "y = to_categorical(y, num_classes)\n"
      ],
      "metadata": {
        "id": "FwKM7si8y82J"
      },
      "execution_count": 62,
      "outputs": []
    },
    {
      "cell_type": "code",
      "source": [
        "y.shape"
      ],
      "metadata": {
        "colab": {
          "base_uri": "https://localhost:8080/"
        },
        "id": "Z44_Bsoq9Aqu",
        "outputId": "da4ab97a-ab12-44e2-ec06-0073b582d3dd"
      },
      "execution_count": 63,
      "outputs": [
        {
          "output_type": "execute_result",
          "data": {
            "text/plain": [
              "(5000, 5)"
            ]
          },
          "metadata": {},
          "execution_count": 63
        }
      ]
    },
    {
      "cell_type": "code",
      "source": [
        "from keras.layers import Conv2D, MaxPooling2D"
      ],
      "metadata": {
        "id": "RqY7PqhmuPq8"
      },
      "execution_count": 34,
      "outputs": []
    },
    {
      "cell_type": "code",
      "source": [
        "model = Sequential()\n",
        "\n",
        "model.add(Conv2D(64, (3,3), activation= 'relu', input_shape=(100,100,3)))\n",
        "model.add(MaxPooling2D((2,2)))\n",
        "\n",
        "model.add(Conv2D(64, (3,3), activation= 'relu'))\n",
        "model.add(MaxPooling2D((2,2)))\n",
        "\n",
        "model.add(Flatten())\n",
        "\n",
        "model.add(Dense(64, input_shape =(100,100,3), activation = 'relu'))\n",
        "\n",
        "model.add(Dense(5, activation = 'softmax'))"
      ],
      "metadata": {
        "id": "pjMoCJxzubwz"
      },
      "execution_count": 68,
      "outputs": []
    },
    {
      "cell_type": "code",
      "source": [
        "from keras import metrics\n",
        "metrics_list = ['accuracy', metrics.Precision(), metrics.Recall()]\n",
        "\n",
        "\n",
        "model.compile(optimizer = 'adam' , loss='categorical_crossentropy', metrics=metrics_list)"
      ],
      "metadata": {
        "id": "dmBXdTVJv8aR"
      },
      "execution_count": 80,
      "outputs": []
    },
    {
      "cell_type": "code",
      "source": [
        "model.summary()"
      ],
      "metadata": {
        "colab": {
          "base_uri": "https://localhost:8080/"
        },
        "id": "zvKWHTVK4m3r",
        "outputId": "394ab58f-7161-4e9f-de45-af6966e9dbba"
      },
      "execution_count": 52,
      "outputs": [
        {
          "output_type": "stream",
          "name": "stdout",
          "text": [
            "Model: \"sequential_6\"\n",
            "_________________________________________________________________\n",
            " Layer (type)                Output Shape              Param #   \n",
            "=================================================================\n",
            " conv2d_12 (Conv2D)          (None, 98, 98, 64)        1792      \n",
            "                                                                 \n",
            " max_pooling2d_12 (MaxPoolin  (None, 49, 49, 64)       0         \n",
            " g2D)                                                            \n",
            "                                                                 \n",
            " conv2d_13 (Conv2D)          (None, 47, 47, 64)        36928     \n",
            "                                                                 \n",
            " max_pooling2d_13 (MaxPoolin  (None, 23, 23, 64)       0         \n",
            " g2D)                                                            \n",
            "                                                                 \n",
            " flatten_6 (Flatten)         (None, 33856)             0         \n",
            "                                                                 \n",
            " dense_12 (Dense)            (None, 64)                2166848   \n",
            "                                                                 \n",
            " dense_13 (Dense)            (None, 5)                 325       \n",
            "                                                                 \n",
            "=================================================================\n",
            "Total params: 2,205,893\n",
            "Trainable params: 2,205,893\n",
            "Non-trainable params: 0\n",
            "_________________________________________________________________\n"
          ]
        }
      ]
    },
    {
      "cell_type": "code",
      "source": [
        "model.fit(X, y, batch_size= 16, epochs=30, validation_split=0.1)"
      ],
      "metadata": {
        "colab": {
          "base_uri": "https://localhost:8080/"
        },
        "id": "wQQsEveawk05",
        "outputId": "83b572a7-730c-4fab-d40a-f60a948d116d"
      },
      "execution_count": 81,
      "outputs": [
        {
          "output_type": "stream",
          "name": "stdout",
          "text": [
            "Epoch 1/30\n",
            "282/282 [==============================] - 6s 12ms/step - loss: 0.1050 - accuracy: 0.9613 - precision_8: 0.9863 - recall_8: 0.9471 - val_loss: 5.6245 - val_accuracy: 0.7600 - val_precision_8: 0.7803 - val_recall_8: 0.7460\n",
            "Epoch 2/30\n",
            "282/282 [==============================] - 3s 9ms/step - loss: 0.3346 - accuracy: 0.9431 - precision_8: 0.9705 - recall_8: 0.9282 - val_loss: 8.3266 - val_accuracy: 0.7320 - val_precision_8: 0.7453 - val_recall_8: 0.7200\n",
            "Epoch 3/30\n",
            "282/282 [==============================] - 2s 9ms/step - loss: 0.2010 - accuracy: 0.9527 - precision_8: 0.9794 - recall_8: 0.9389 - val_loss: 6.4837 - val_accuracy: 0.7460 - val_precision_8: 0.7572 - val_recall_8: 0.7360\n",
            "Epoch 4/30\n",
            "282/282 [==============================] - 3s 9ms/step - loss: 0.1424 - accuracy: 0.9604 - precision_8: 0.9873 - recall_8: 0.9469 - val_loss: 6.4090 - val_accuracy: 0.7440 - val_precision_8: 0.7702 - val_recall_8: 0.7240\n",
            "Epoch 5/30\n",
            "282/282 [==============================] - 3s 9ms/step - loss: 0.2963 - accuracy: 0.9373 - precision_8: 0.9704 - recall_8: 0.9169 - val_loss: 7.4233 - val_accuracy: 0.7480 - val_precision_8: 0.7660 - val_recall_8: 0.7200\n",
            "Epoch 6/30\n",
            "282/282 [==============================] - 3s 11ms/step - loss: 0.1789 - accuracy: 0.9533 - precision_8: 0.9839 - recall_8: 0.9367 - val_loss: 6.8400 - val_accuracy: 0.7320 - val_precision_8: 0.7661 - val_recall_8: 0.7140\n",
            "Epoch 7/30\n",
            "282/282 [==============================] - 3s 9ms/step - loss: 0.1218 - accuracy: 0.9553 - precision_8: 0.9858 - recall_8: 0.9391 - val_loss: 7.8218 - val_accuracy: 0.7580 - val_precision_8: 0.7820 - val_recall_8: 0.7460\n",
            "Epoch 8/30\n",
            "282/282 [==============================] - 3s 9ms/step - loss: 0.0854 - accuracy: 0.9696 - precision_8: 0.9922 - recall_8: 0.9558 - val_loss: 8.1007 - val_accuracy: 0.7480 - val_precision_8: 0.7669 - val_recall_8: 0.7240\n",
            "Epoch 9/30\n",
            "282/282 [==============================] - 3s 9ms/step - loss: 0.0905 - accuracy: 0.9709 - precision_8: 0.9924 - recall_8: 0.9578 - val_loss: 7.7545 - val_accuracy: 0.7760 - val_precision_8: 0.7963 - val_recall_8: 0.7660\n",
            "Epoch 10/30\n",
            "282/282 [==============================] - 3s 9ms/step - loss: 0.0728 - accuracy: 0.9713 - precision_8: 0.9936 - recall_8: 0.9587 - val_loss: 7.2778 - val_accuracy: 0.7660 - val_precision_8: 0.7928 - val_recall_8: 0.7500\n",
            "Epoch 11/30\n",
            "282/282 [==============================] - 3s 11ms/step - loss: 0.1771 - accuracy: 0.9604 - precision_8: 0.9824 - recall_8: 0.9453 - val_loss: 8.1454 - val_accuracy: 0.7020 - val_precision_8: 0.7401 - val_recall_8: 0.6720\n",
            "Epoch 12/30\n",
            "282/282 [==============================] - 3s 9ms/step - loss: 0.1796 - accuracy: 0.9547 - precision_8: 0.9826 - recall_8: 0.9407 - val_loss: 6.7395 - val_accuracy: 0.7580 - val_precision_8: 0.7771 - val_recall_8: 0.7460\n",
            "Epoch 13/30\n",
            "282/282 [==============================] - 3s 9ms/step - loss: 0.0839 - accuracy: 0.9727 - precision_8: 0.9922 - recall_8: 0.9609 - val_loss: 6.3657 - val_accuracy: 0.7580 - val_precision_8: 0.7723 - val_recall_8: 0.7460\n",
            "Epoch 14/30\n",
            "282/282 [==============================] - 3s 10ms/step - loss: 0.0632 - accuracy: 0.9753 - precision_8: 0.9943 - recall_8: 0.9631 - val_loss: 6.5738 - val_accuracy: 0.7840 - val_precision_8: 0.7955 - val_recall_8: 0.7700\n",
            "Epoch 15/30\n",
            "282/282 [==============================] - 3s 10ms/step - loss: 0.0774 - accuracy: 0.9742 - precision_8: 0.9924 - recall_8: 0.9631 - val_loss: 7.1140 - val_accuracy: 0.7640 - val_precision_8: 0.7815 - val_recall_8: 0.7440\n",
            "Epoch 16/30\n",
            "282/282 [==============================] - 3s 11ms/step - loss: 0.0522 - accuracy: 0.9787 - precision_8: 0.9954 - recall_8: 0.9669 - val_loss: 6.7500 - val_accuracy: 0.7820 - val_precision_8: 0.8029 - val_recall_8: 0.7740\n",
            "Epoch 17/30\n",
            "282/282 [==============================] - 3s 9ms/step - loss: 0.0441 - accuracy: 0.9811 - precision_8: 0.9964 - recall_8: 0.9727 - val_loss: 6.8462 - val_accuracy: 0.8020 - val_precision_8: 0.8131 - val_recall_8: 0.7920\n",
            "Epoch 18/30\n",
            "282/282 [==============================] - 3s 9ms/step - loss: 0.0581 - accuracy: 0.9767 - precision_8: 0.9936 - recall_8: 0.9678 - val_loss: 7.6172 - val_accuracy: 0.7580 - val_precision_8: 0.7743 - val_recall_8: 0.7480\n",
            "Epoch 19/30\n",
            "282/282 [==============================] - 3s 9ms/step - loss: 0.1909 - accuracy: 0.9556 - precision_8: 0.9779 - recall_8: 0.9424 - val_loss: 8.1056 - val_accuracy: 0.7580 - val_precision_8: 0.7844 - val_recall_8: 0.7420\n",
            "Epoch 20/30\n",
            "282/282 [==============================] - 3s 9ms/step - loss: 0.1817 - accuracy: 0.9580 - precision_8: 0.9776 - recall_8: 0.9429 - val_loss: 6.9154 - val_accuracy: 0.7680 - val_precision_8: 0.7782 - val_recall_8: 0.7580\n",
            "Epoch 21/30\n",
            "282/282 [==============================] - 3s 11ms/step - loss: 0.2981 - accuracy: 0.9416 - precision_8: 0.9698 - recall_8: 0.9282 - val_loss: 7.7953 - val_accuracy: 0.6700 - val_precision_8: 0.7252 - val_recall_8: 0.6440\n",
            "Epoch 22/30\n",
            "282/282 [==============================] - 3s 10ms/step - loss: 0.2402 - accuracy: 0.9538 - precision_8: 0.9776 - recall_8: 0.9404 - val_loss: 7.2344 - val_accuracy: 0.7400 - val_precision_8: 0.7627 - val_recall_8: 0.7200\n",
            "Epoch 23/30\n",
            "282/282 [==============================] - 3s 9ms/step - loss: 0.1551 - accuracy: 0.9593 - precision_8: 0.9831 - recall_8: 0.9438 - val_loss: 7.3425 - val_accuracy: 0.7500 - val_precision_8: 0.7768 - val_recall_8: 0.7240\n",
            "Epoch 24/30\n",
            "282/282 [==============================] - 3s 9ms/step - loss: 0.0873 - accuracy: 0.9700 - precision_8: 0.9915 - recall_8: 0.9544 - val_loss: 7.0026 - val_accuracy: 0.7720 - val_precision_8: 0.7851 - val_recall_8: 0.7600\n",
            "Epoch 25/30\n",
            "282/282 [==============================] - 3s 9ms/step - loss: 0.0504 - accuracy: 0.9778 - precision_8: 0.9950 - recall_8: 0.9702 - val_loss: 6.9781 - val_accuracy: 0.7820 - val_precision_8: 0.7975 - val_recall_8: 0.7720\n",
            "Epoch 26/30\n",
            "282/282 [==============================] - 3s 10ms/step - loss: 0.0488 - accuracy: 0.9793 - precision_8: 0.9954 - recall_8: 0.9722 - val_loss: 7.3829 - val_accuracy: 0.7680 - val_precision_8: 0.7787 - val_recall_8: 0.7600\n",
            "Epoch 27/30\n",
            "282/282 [==============================] - 3s 10ms/step - loss: 0.1465 - accuracy: 0.9653 - precision_8: 0.9833 - recall_8: 0.9547 - val_loss: 7.7578 - val_accuracy: 0.7440 - val_precision_8: 0.7641 - val_recall_8: 0.7320\n",
            "Epoch 28/30\n",
            "282/282 [==============================] - 3s 9ms/step - loss: 0.0975 - accuracy: 0.9671 - precision_8: 0.9863 - recall_8: 0.9567 - val_loss: 7.1919 - val_accuracy: 0.7680 - val_precision_8: 0.7782 - val_recall_8: 0.7580\n",
            "Epoch 29/30\n",
            "282/282 [==============================] - 3s 9ms/step - loss: 0.1097 - accuracy: 0.9727 - precision_8: 0.9883 - recall_8: 0.9609 - val_loss: 7.4489 - val_accuracy: 0.7560 - val_precision_8: 0.7691 - val_recall_8: 0.7460\n",
            "Epoch 30/30\n",
            "282/282 [==============================] - 3s 9ms/step - loss: 0.1034 - accuracy: 0.9731 - precision_8: 0.9890 - recall_8: 0.9627 - val_loss: 7.5169 - val_accuracy: 0.7500 - val_precision_8: 0.7773 - val_recall_8: 0.7400\n"
          ]
        },
        {
          "output_type": "execute_result",
          "data": {
            "text/plain": [
              "<keras.callbacks.History at 0x7f9b90250b50>"
            ]
          },
          "metadata": {},
          "execution_count": 81
        }
      ]
    }
  ]
}